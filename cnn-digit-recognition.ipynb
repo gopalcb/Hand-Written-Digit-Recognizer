{
 "cells": [
  {
   "cell_type": "markdown",
   "metadata": {},
   "source": [
    "**PROBLEM OVERVIEW:**\n",
    "<br>\n",
    "The Digit Recognizer is a multi-class classification problem. The data files train.csv and test.csv contain 28*28 pixels gray scale images.\n",
    "We will approach the problem in six major steps: \n",
    "1. Dataset import and pre-processing\n",
    "2. Designing CNN architecture\n",
    "3. Training the networks\n",
    "4. Predict on test dataset\n",
    "5. Plotting necessary diagrams\n",
    "6. Saving output\n",
    "\n",
    "<br>\n",
    "**1. DATASET IMPORT AND PRE-PROCESSING**"
   ]
  },
  {
   "cell_type": "code",
   "execution_count": 1,
   "metadata": {
    "_cell_guid": "b1076dfc-b9ad-4769-8c92-a6c4dae69d19",
    "_uuid": "8f2839f25d086af736a60e9eeb907d3b93b6e0e5"
   },
   "outputs": [
    {
     "name": "stderr",
     "output_type": "stream",
     "text": [
      "Using TensorFlow backend.\n"
     ]
    }
   ],
   "source": [
    "# Libraries\n",
    "import pandas as pd\n",
    "import numpy as np\n",
    "\n",
    "import tensorflow as tf\n",
    "import keras\n",
    "from keras.models import Sequential\n",
    "from keras.layers import Dense, Activation, Dropout, Flatten, Conv2D, MaxPooling2D, AveragePooling2D\n",
    "from keras.layers.normalization import BatchNormalization\n",
    "from keras.callbacks import ReduceLROnPlateau\n",
    "\n",
    "from sklearn.model_selection import train_test_split\n",
    "\n",
    "import matplotlib.pyplot as plt\n",
    "\n",
    "import itertools\n",
    "\n",
    "import seaborn as sns\n",
    "\n",
    "# Reading dataset\n",
    "X =  pd.read_csv(\"../input/train.csv\")\n",
    "X_test_main =  pd.read_csv(\"../input/test.csv\")\n",
    "\n",
    "# Extract label info\n",
    "y = X[\"label\"]\n",
    "\n",
    "X = X.drop(['label'],axis = 1)\n",
    "\n",
    "# Reshape image matrix\n",
    "X = X.values.reshape(-1, 28, 28, 1).astype('float32')\n",
    "X_test_main = X_test_main.values.reshape(-1, 28, 28, 1).astype('float32')\n",
    "\n",
    "y = y.values\n"
   ]
  },
  {
   "cell_type": "code",
   "execution_count": 2,
   "metadata": {},
   "outputs": [
    {
     "data": {
      "text/plain": [
       "(42000, 28, 28, 1)"
      ]
     },
     "execution_count": 2,
     "metadata": {},
     "output_type": "execute_result"
    }
   ],
   "source": [
    "# Input shape\n",
    "X.shape"
   ]
  },
  {
   "cell_type": "code",
   "execution_count": 3,
   "metadata": {},
   "outputs": [],
   "source": [
    "# Plot label info\n",
    "#plt = sns.countplot(y)"
   ]
  },
  {
   "cell_type": "markdown",
   "metadata": {},
   "source": [
    "**Sample train image plotting:**"
   ]
  },
  {
   "cell_type": "code",
   "execution_count": 4,
   "metadata": {
    "_cell_guid": "79c7e3d0-c299-4dcb-8224-4455121ee9b0",
    "_uuid": "d629ff2d2480ee46fbb7e2d37f6b5fab8052498a"
   },
   "outputs": [
    {
     "data": {
      "image/png": "[encoded data removed]",
      "text/plain": [
       "<Figure size 432x288 with 2 Axes>"
      ]
     },
     "metadata": {
      "needs_background": "light"
     },
     "output_type": "display_data"
    }
   ],
   "source": [
    "plt.figure()\n",
    "plt.imshow( X[1][:,:,0])\n",
    "plt.colorbar()\n",
    "plt.grid(False)\n",
    "plt.show()"
   ]
  },
  {
   "cell_type": "markdown",
   "metadata": {},
   "source": [
    "**Data Normalization:**\n",
    "<br>\n",
    "The type of pixel value is integer and the range is in between 0 to 255. In order to convert the value 0 to 1 range, we will divide it by 255."
   ]
  },
  {
   "cell_type": "code",
   "execution_count": 5,
   "metadata": {},
   "outputs": [],
   "source": [
    "X = X / 255.0\n",
    "X_test_main = X_test_main / 255.0"
   ]
  },
  {
   "cell_type": "code",
   "execution_count": 6,
   "metadata": {},
   "outputs": [],
   "source": [
    "# Train and test dataset split\n",
    "X_train, X_test, y_train, y_test = train_test_split(X, y, test_size=0.1, random_state=42,stratify=y)"
   ]
  },
  {
   "cell_type": "markdown",
   "metadata": {},
   "source": [
    "**2. DESIGNING CNN ARCHITECTURE**\n",
    "<br>\n",
    "The CNN architecture is designed using 3 convolution layers and 3 fully connected (FC) layers. The summary of the architecture is given bellow:\n",
    "<br>\n",
    "<br>\n",
    "***CONV 1***\n",
    "<br>\n",
    "***MAX POOLING 1***\n",
    "<br>\n",
    "***NORMALIZATION 1***\n",
    "<br>\n",
    "<br>\n",
    "***CONV 2***\n",
    "<br>\n",
    "***MAX POOLING 2***\n",
    "<br>\n",
    "***NORMALIZATION 2***\n",
    "<br>\n",
    "<br>\n",
    "***CONV 3***\n",
    "<br>\n",
    "***MAX POOLING 3***\n",
    "<br>\n",
    "***NORMALIZATION 3***\n",
    "<br>\n",
    "<br>\n",
    "***FC 1***\n",
    "<br>\n",
    "***FC 2***\n",
    "<br>\n",
    "***FC 3 (Softmax)***"
   ]
  },
  {
   "cell_type": "code",
   "execution_count": 7,
   "metadata": {},
   "outputs": [],
   "source": [
    "model = Sequential()\n",
    "    \n",
    "# CONV 1\n",
    "model.add(Conv2D(filters=32, kernel_size=(3,3), activation=\"relu\", strides=(1,1), padding=\"valid\"))\n",
    "#model.add(Activation=\"relu\")\n",
    "# MAX POOL 1\n",
    "model.add(MaxPooling2D(pool_size=(3,3), strides=(1,1), padding=\"valid\"))\n",
    "# NORM 1\n",
    "model.add(BatchNormalization())\n",
    "\n",
    "\n",
    "# CONV 2\n",
    "model.add(Conv2D(filters=64, kernel_size=(3,3), activation=\"relu\", strides=(1,1), padding=\"valid\"))\n",
    "#model.add(Activation=\"relu\")\n",
    "# MAX POOL 2\n",
    "model.add(MaxPooling2D(pool_size=(3,3), strides=(1,1), padding=\"valid\"))\n",
    "# NORM 2\n",
    "model.add(BatchNormalization())\n",
    "\n",
    "\n",
    "# CONV 3\n",
    "model.add(Conv2D(filters=128, kernel_size=(3,3), activation=\"relu\", strides=(1,1), padding=\"valid\"))\n",
    "#model.add(Activation=\"relu\")\n",
    "# MAX POOL 3\n",
    "model.add(MaxPooling2D(pool_size=(3,3), strides=(1,1), padding=\"valid\"))\n",
    "# NORM 3\n",
    "model.add(BatchNormalization())\n",
    "\n",
    "\n",
    "# Flatten\n",
    "model.add(Flatten())\n",
    "\n",
    "# FC 1\n",
    "model.add(Dense(units=512, activation=\"relu\"))\n",
    "#model.add(Dropout=0.2)\n",
    "\n",
    "# FC 2\n",
    "model.add(Dense(units=120, activation=\"relu\"))\n",
    "#model.add(Dropout=0.2)\n",
    "\n",
    "# FC 3\n",
    "model.add(Dense(units=10, activation = \"softmax\"))"
   ]
  },
  {
   "cell_type": "markdown",
   "metadata": {},
   "source": [
    "**Compile the sequential model:**\n",
    "<br>\n",
    "The following hyper parameter values are used to compile the generated model.\n",
    "<br>\n",
    "<br>\n",
    "learning rate=0.001<br>\n",
    "weight decay=1e-6<br>\n",
    "momentum=0.9"
   ]
  },
  {
   "cell_type": "code",
   "execution_count": 8,
   "metadata": {},
   "outputs": [],
   "source": [
    "sgd = keras.optimizers.SGD(lr=0.001, decay=1e-6, momentum=0.9, nesterov=True)\n",
    "model.compile(loss=\"sparse_categorical_crossentropy\", optimizer=sgd, metrics=[\"sparse_categorical_accuracy\"])\n",
    "\n",
    "# ReduceLROnPlateau is a function from keras.callbacks.\n",
    "# The following line of code reduces the learning rate by 0.5 if accuracy does not improve after 3 epochs.\n",
    "lrr = ReduceLROnPlateau(monitor='val_acc', patience=3, verbose=1, factor=0.5, min_lr=0.00001)"
   ]
  },
  {
   "cell_type": "markdown",
   "metadata": {},
   "source": [
    "**3. TRAINING THE NETWORKS**\n",
    "<br>\n",
    "The following hyper parameter values are used to train the neural networks:\n",
    "<br>\n",
    "<br>\n",
    "batch_size=40\n",
    "<br>\n",
    "epochs=20\n",
    "<br>\n",
    "verbose = 2\n",
    "<br>\n",
    "validation_split=0.25"
   ]
  },
  {
   "cell_type": "code",
   "execution_count": 9,
   "metadata": {},
   "outputs": [
    {
     "name": "stdout",
     "output_type": "stream",
     "text": [
      "Train on 28350 samples, validate on 9450 samples\n",
      "Epoch 1/20\n",
      " - 213s - loss: 0.1163 - sparse_categorical_accuracy: 0.9648 - val_loss: 0.0574 - val_sparse_categorical_accuracy: 0.9829\n",
      "Epoch 2/20\n"
     ]
    },
    {
     "name": "stderr",
     "output_type": "stream",
     "text": [
      "/opt/conda/lib/python3.6/site-packages/keras/callbacks.py:1109: RuntimeWarning: Reduce LR on plateau conditioned on metric `val_acc` which is not available. Available metrics are: val_loss,val_sparse_categorical_accuracy,loss,sparse_categorical_accuracy,lr\n",
      "  (self.monitor, ','.join(list(logs.keys()))), RuntimeWarning\n"
     ]
    },
    {
     "name": "stdout",
     "output_type": "stream",
     "text": [
      " - 211s - loss: 0.0205 - sparse_categorical_accuracy: 0.9943 - val_loss: 0.0418 - val_sparse_categorical_accuracy: 0.9886\n",
      "Epoch 3/20\n",
      " - 212s - loss: 0.0095 - sparse_categorical_accuracy: 0.9979 - val_loss: 0.0396 - val_sparse_categorical_accuracy: 0.9888\n",
      "Epoch 4/20\n",
      " - 213s - loss: 0.0050 - sparse_categorical_accuracy: 0.9994 - val_loss: 0.0353 - val_sparse_categorical_accuracy: 0.9906\n",
      "Epoch 5/20\n",
      " - 214s - loss: 0.0029 - sparse_categorical_accuracy: 0.9999 - val_loss: 0.0358 - val_sparse_categorical_accuracy: 0.9908\n",
      "Epoch 6/20\n",
      " - 213s - loss: 0.0020 - sparse_categorical_accuracy: 1.0000 - val_loss: 0.0353 - val_sparse_categorical_accuracy: 0.9911\n",
      "Epoch 7/20\n",
      " - 213s - loss: 0.0017 - sparse_categorical_accuracy: 1.0000 - val_loss: 0.0357 - val_sparse_categorical_accuracy: 0.9903\n",
      "Epoch 8/20\n",
      " - 223s - loss: 0.0013 - sparse_categorical_accuracy: 1.0000 - val_loss: 0.0358 - val_sparse_categorical_accuracy: 0.9908\n",
      "Epoch 9/20\n",
      " - 219s - loss: 0.0011 - sparse_categorical_accuracy: 1.0000 - val_loss: 0.0361 - val_sparse_categorical_accuracy: 0.9906\n",
      "Epoch 10/20\n",
      " - 211s - loss: 0.0010 - sparse_categorical_accuracy: 1.0000 - val_loss: 0.0360 - val_sparse_categorical_accuracy: 0.9908\n",
      "Epoch 11/20\n",
      " - 211s - loss: 9.2266e-04 - sparse_categorical_accuracy: 0.9999 - val_loss: 0.0361 - val_sparse_categorical_accuracy: 0.9911\n",
      "Epoch 12/20\n",
      " - 211s - loss: 7.8591e-04 - sparse_categorical_accuracy: 1.0000 - val_loss: 0.0365 - val_sparse_categorical_accuracy: 0.9907\n",
      "Epoch 13/20\n",
      " - 211s - loss: 7.0502e-04 - sparse_categorical_accuracy: 1.0000 - val_loss: 0.0364 - val_sparse_categorical_accuracy: 0.9910\n",
      "Epoch 14/20\n",
      " - 211s - loss: 6.5979e-04 - sparse_categorical_accuracy: 1.0000 - val_loss: 0.0368 - val_sparse_categorical_accuracy: 0.9908\n",
      "Epoch 15/20\n",
      " - 211s - loss: 6.1819e-04 - sparse_categorical_accuracy: 1.0000 - val_loss: 0.0367 - val_sparse_categorical_accuracy: 0.9909\n",
      "Epoch 16/20\n",
      " - 212s - loss: 5.5967e-04 - sparse_categorical_accuracy: 1.0000 - val_loss: 0.0371 - val_sparse_categorical_accuracy: 0.9909\n",
      "Epoch 17/20\n",
      " - 213s - loss: 5.4024e-04 - sparse_categorical_accuracy: 1.0000 - val_loss: 0.0371 - val_sparse_categorical_accuracy: 0.9909\n",
      "Epoch 18/20\n",
      " - 212s - loss: 5.0445e-04 - sparse_categorical_accuracy: 1.0000 - val_loss: 0.0372 - val_sparse_categorical_accuracy: 0.9907\n",
      "Epoch 19/20\n",
      " - 211s - loss: 4.7770e-04 - sparse_categorical_accuracy: 1.0000 - val_loss: 0.0372 - val_sparse_categorical_accuracy: 0.9913\n",
      "Epoch 20/20\n",
      " - 211s - loss: 4.3890e-04 - sparse_categorical_accuracy: 1.0000 - val_loss: 0.0370 - val_sparse_categorical_accuracy: 0.9910\n"
     ]
    },
    {
     "data": {
      "text/plain": [
       "'\\nresult = model.fit(X, \\n                   y, \\n                   batch_size=70, \\n                   epochs=3, \\n                   verbose=2, \\n                   validation_split=0.25, \\n                   callbacks=[lrr],\\n                   shuffle=True)\\n'"
      ]
     },
     "execution_count": 9,
     "metadata": {},
     "output_type": "execute_result"
    }
   ],
   "source": [
    "# The following traing is based on splitted test and train dataset\n",
    "\n",
    "result = model.fit(X_train, \n",
    "                   y_train, \n",
    "                   batch_size=70, \n",
    "                   epochs=20, \n",
    "                   verbose=2, \n",
    "                   validation_split=0.25, \n",
    "                   callbacks=[lrr],\n",
    "                   shuffle=True)\n",
    "\n",
    "'''\n",
    "result = model.fit(X, \n",
    "                   y, \n",
    "                   batch_size=70, \n",
    "                   epochs=3, \n",
    "                   verbose=2, \n",
    "                   validation_split=0.25, \n",
    "                   callbacks=[lrr],\n",
    "                   shuffle=True)\n",
    "'''"
   ]
  },
  {
   "cell_type": "code",
   "execution_count": 10,
   "metadata": {},
   "outputs": [
    {
     "name": "stdout",
     "output_type": "stream",
     "text": [
      "_________________________________________________________________\n",
      "Layer (type)                 Output Shape              Param #   \n",
      "=================================================================\n",
      "conv2d_1 (Conv2D)            (None, 26, 26, 32)        320       \n",
      "_________________________________________________________________\n",
      "max_pooling2d_1 (MaxPooling2 (None, 24, 24, 32)        0         \n",
      "_________________________________________________________________\n",
      "batch_normalization_1 (Batch (None, 24, 24, 32)        128       \n",
      "_________________________________________________________________\n",
      "conv2d_2 (Conv2D)            (None, 22, 22, 64)        18496     \n",
      "_________________________________________________________________\n",
      "max_pooling2d_2 (MaxPooling2 (None, 20, 20, 64)        0         \n",
      "_________________________________________________________________\n",
      "batch_normalization_2 (Batch (None, 20, 20, 64)        256       \n",
      "_________________________________________________________________\n",
      "conv2d_3 (Conv2D)            (None, 18, 18, 128)       73856     \n",
      "_________________________________________________________________\n",
      "max_pooling2d_3 (MaxPooling2 (None, 16, 16, 128)       0         \n",
      "_________________________________________________________________\n",
      "batch_normalization_3 (Batch (None, 16, 16, 128)       512       \n",
      "_________________________________________________________________\n",
      "flatten_1 (Flatten)          (None, 32768)             0         \n",
      "_________________________________________________________________\n",
      "dense_1 (Dense)              (None, 512)               16777728  \n",
      "_________________________________________________________________\n",
      "dense_2 (Dense)              (None, 120)               61560     \n",
      "_________________________________________________________________\n",
      "dense_3 (Dense)              (None, 10)                1210      \n",
      "=================================================================\n",
      "Total params: 16,934,066\n",
      "Trainable params: 16,933,618\n",
      "Non-trainable params: 448\n",
      "_________________________________________________________________\n"
     ]
    }
   ],
   "source": [
    "# Visualize model summary\n",
    "model.summary()"
   ]
  },
  {
   "cell_type": "markdown",
   "metadata": {},
   "source": [
    "**4. PREDICT ON TEST DATA**"
   ]
  },
  {
   "cell_type": "code",
   "execution_count": 11,
   "metadata": {},
   "outputs": [
    {
     "data": {
      "text/plain": [
       "array([9.9998987e-01, 2.3385724e-11, 2.3172939e-08, ..., 4.8415590e-14,\n",
       "       1.8553530e-08, 9.5875633e-01], dtype=float32)"
      ]
     },
     "execution_count": 11,
     "metadata": {},
     "output_type": "execute_result"
    }
   ],
   "source": [
    "y_pred = model.predict(X_test, verbose = 2)\n",
    "#y_pred = model.predict(X_test_main, verbose = 2)\n",
    "\n",
    "y_pred[:,0]"
   ]
  },
  {
   "cell_type": "code",
   "execution_count": 12,
   "metadata": {},
   "outputs": [
    {
     "name": "stdout",
     "output_type": "stream",
     "text": [
      "4200/4200 [==============================] - 6s 2ms/step\n",
      "Test accuracy: 0.9916666666666667\n"
     ]
    }
   ],
   "source": [
    "# Loss and accuracy\n",
    "test_loss, test_acc = model.evaluate(X_test, y_test)\n",
    "print('Test accuracy:', test_acc)"
   ]
  },
  {
   "cell_type": "markdown",
   "metadata": {},
   "source": [
    "**5. PLOTTING**"
   ]
  },
  {
   "cell_type": "code",
   "execution_count": 13,
   "metadata": {},
   "outputs": [
    {
     "data": {
      "image/png": "[encoded data removed]",
      "text/plain": [
       "<Figure size 432x288 with 1 Axes>"
      ]
     },
     "metadata": {
      "needs_background": "light"
     },
     "output_type": "display_data"
    },
    {
     "data": {
      "text/plain": [
       "<Figure size 432x288 with 0 Axes>"
      ]
     },
     "metadata": {},
     "output_type": "display_data"
    }
   ],
   "source": [
    "# Plot training and validation accuracy\n",
    "acc = result.history['sparse_categorical_accuracy']\n",
    "val_acc = result.history['val_sparse_categorical_accuracy']\n",
    "epochs = range(len(acc))\n",
    "plt.plot(epochs, acc, 'r', label='Training')\n",
    "plt.plot(epochs, val_acc, 'b', label='Validation')\n",
    "plt.title('Training and validatio set accuracy')\n",
    "plt.legend(loc=0)\n",
    "plt.figure()\n",
    "plt.show()"
   ]
  },
  {
   "cell_type": "markdown",
   "metadata": {},
   "source": [
    "**6. SAVE OUTPUT**"
   ]
  },
  {
   "cell_type": "code",
   "execution_count": 14,
   "metadata": {},
   "outputs": [],
   "source": [
    "# Before saving output for submission, the model needs to be trained on the full training dataset (not splitted train dataset).\n",
    "# Also the predict method needs to be run on X_test_main dataset.\n",
    "y_pred = np.argmax(y_pred,axis = 1)\n",
    "y_pred = pd.Series(y_pred,name=\"Label\")\n",
    "s = pd.concat([pd.Series(range(1,28001),name = \"ImageId\"),y_pred],axis = 1)\n",
    "s.to_csv(\"output.csv\",index=False)"
   ]
  }
 ],
 "metadata": {
  "kernelspec": {
   "display_name": "Python 3",
   "language": "python",
   "name": "python3"
  },
  "language_info": {
   "codemirror_mode": {
    "name": "ipython",
    "version": 3
   },
   "file_extension": ".py",
   "mimetype": "text/x-python",
   "name": "python",
   "nbconvert_exporter": "python",
   "pygments_lexer": "ipython3",
   "version": "3.6.6"
  }
 },
 "nbformat": 4,
 "nbformat_minor": 1
}
